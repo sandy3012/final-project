{
  "nbformat": 4,
  "nbformat_minor": 0,
  "metadata": {
    "colab": {
      "name": "Data Analysis Fansipan 2019.ipynb",
      "version": "0.3.2",
      "provenance": [],
      "collapsed_sections": [
        "abTUKHZHmj35",
        "_aViuJSGm4Nm",
        "XK5RYIn2m-AX",
        "U7R5kyR3nL5l",
        "lpQ-6XPmnWG8",
        "VFVrswmwnhcK",
        "3hyFOBlonsRJ"
      ]
    },
    "kernelspec": {
      "name": "python3",
      "display_name": "Python 3"
    }
  },
  "cells": [
    {
      "cell_type": "markdown",
      "metadata": {
        "id": "agYGU7YdT8a6",
        "colab_type": "text"
      },
      "source": [
        ""
      ]
    },
    {
      "cell_type": "code",
      "metadata": {
        "id": "o67961WWl5IN",
        "colab_type": "code",
        "outputId": "b8f1db4d-dbce-4e18-b098-8fb861b616ed",
        "colab": {
          "base_uri": "https://localhost:8080/",
          "height": 126
        }
      },
      "source": [
        "from google.colab import drive\n",
        "drive.mount('/content/gdrive')"
      ],
      "execution_count": 0,
      "outputs": [
        {
          "output_type": "stream",
          "text": [
            "Go to this URL in a browser: https://accounts.google.com/o/oauth2/auth?client_id=947318989803-6bn6qk8qdgf4n4g3pfee6491hc0brc4i.apps.googleusercontent.com&redirect_uri=urn%3Aietf%3Awg%3Aoauth%3A2.0%3Aoob&scope=email%20https%3A%2F%2Fwww.googleapis.com%2Fauth%2Fdocs.test%20https%3A%2F%2Fwww.googleapis.com%2Fauth%2Fdrive%20https%3A%2F%2Fwww.googleapis.com%2Fauth%2Fdrive.photos.readonly%20https%3A%2F%2Fwww.googleapis.com%2Fauth%2Fpeopleapi.readonly&response_type=code\n",
            "\n",
            "Enter your authorization code:\n",
            "··········\n",
            "Mounted at /content/gdrive\n"
          ],
          "name": "stdout"
        }
      ]
    },
    {
      "cell_type": "code",
      "metadata": {
        "id": "tVZkUoj9nmHl",
        "colab_type": "code",
        "colab": {}
      },
      "source": [
        "#import libraries\n",
        "import pandas as pd\n",
        "import numpy as np\n",
        "import seaborn as sns\n",
        "import matplotlib.pyplot as plt\n",
        "import scipy\n",
        "from scipy.stats import chi2_contingency\n",
        "from scipy.stats import chi2"
      ],
      "execution_count": 0,
      "outputs": []
    },
    {
      "cell_type": "code",
      "metadata": {
        "id": "3LD0gHSDn_Qb",
        "colab_type": "code",
        "colab": {}
      },
      "source": [
        "products = pd.read_csv('gdrive/My Drive/tiki_analysis/Tiki.csv')"
      ],
      "execution_count": 0,
      "outputs": []
    },
    {
      "cell_type": "code",
      "metadata": {
        "id": "ASSZ4Z5jo_9r",
        "colab_type": "code",
        "colab": {}
      },
      "source": [
        "products.head()"
      ],
      "execution_count": 0,
      "outputs": []
    },
    {
      "cell_type": "markdown",
      "metadata": {
        "id": "wwobiyoERPA0",
        "colab_type": "text"
      },
      "source": [
        "### Tiki was established to improve Vietnamese reading spirit, especially books in English. Therefore the main aim of Tiki is selling international books. Firstly, we will analyze the book category."
      ]
    },
    {
      "cell_type": "markdown",
      "metadata": {
        "id": "EGWTSALERrjp",
        "colab_type": "text"
      },
      "source": [
        "Firstly, get sample number of books.\n",
        "Then, categorize them in Domestic and International"
      ]
    },
    {
      "cell_type": "code",
      "metadata": {
        "id": "sN1eRBscRqV6",
        "colab_type": "code",
        "colab": {}
      },
      "source": [
        "books = products[products[\"category\"]==\"Sách, VPP & Quà Tặng\"]\n",
        "books['Type'] = books[\"subcategory\"].apply(lambda x: \"Domestic\" if \"Sách tiếng Việt\" in x else \"International\" )\n",
        "books.head()"
      ],
      "execution_count": 0,
      "outputs": []
    },
    {
      "cell_type": "markdown",
      "metadata": {
        "id": "5XK1L2DxSAOo",
        "colab_type": "text"
      },
      "source": [
        "What is the book type distribution?"
      ]
    },
    {
      "cell_type": "code",
      "metadata": {
        "id": "TgSRadhiSHC-",
        "colab_type": "code",
        "outputId": "065fd34d-65d2-4d92-8d6d-4b8020168fe0",
        "colab": {
          "base_uri": "https://localhost:8080/",
          "height": 310
        }
      },
      "source": [
        "labels = [\"International\",\"Domestic\"]\n",
        "sizes = [books[books[\"Type\"]==\"International\"].product_id.count(), books[books[\"Type\"]==\"Domestic\"].product_id.count()]\n",
        "explode = (0, 0.1)\n",
        "plt.figure(figsize=(5,5))\n",
        "plt.pie(sizes,labels=labels,explode = explode,autopct='%1.1f%%',\n",
        "        shadow=True, startangle=90)\n",
        "plt.show()"
      ],
      "execution_count": 0,
      "outputs": [
        {
          "output_type": "display_data",
          "data": {
            "image/png": "[encoded data removed]",
            "text/plain": [
              "<Figure size 360x360 with 1 Axes>"
            ]
          },
          "metadata": {
            "tags": []
          }
        }
      ]
    },
    {
      "cell_type": "markdown",
      "metadata": {
        "id": "_t89Yem9SOC3",
        "colab_type": "text"
      },
      "source": [
        "#### Tiki main goal is selling international books. However, from the observation, domestic books have a higher density. Why tiki go against its original goal?"
      ]
    },
    {
      "cell_type": "code",
      "metadata": {
        "id": "NyTpqoZ15AIy",
        "colab_type": "code",
        "colab": {}
      },
      "source": [
        "def satisfaction_level(x):\n",
        "    if x <= 20:\n",
        "        return \"Very disatisfied\"\n",
        "    elif x <= 40:\n",
        "        return \"Disatisfied\"\n",
        "    elif x <= 60:\n",
        "        return \"Neutral\"\n",
        "    elif x <= 80:\n",
        "        return \"Satisfied\"\n",
        "    elif x <= 100:\n",
        "        return \"Very Satisfied\"\n",
        "    else:\n",
        "        return \"No rating\""
      ],
      "execution_count": 0,
      "outputs": []
    },
    {
      "cell_type": "code",
      "metadata": {
        "id": "1E0_BNwX7IS1",
        "colab_type": "code",
        "colab": {}
      },
      "source": [
        "books[\"satisfaction_levels\"] = books[\"rating\"].apply(satisfaction_level)\n",
        "books.sample(50)"
      ],
      "execution_count": 0,
      "outputs": []
    },
    {
      "cell_type": "code",
      "metadata": {
        "id": "MPW7tLYC7xC8",
        "colab_type": "code",
        "outputId": "4130c25b-ef81-4d90-be00-255ac471a552",
        "colab": {
          "base_uri": "https://localhost:8080/",
          "height": 447
        }
      },
      "source": [
        "plt.figure(figsize=(10,7))\n",
        "sns.barplot(x=books[\"satisfaction_levels\"],y=books[\"price\"],\\\n",
        "                 hue=books[\"Type\"],palette=\"pastel\",\\\n",
        "                 order = [\"Very disatisfied\",\"Disatisfied\",\"Neutral\",\"Satisfied\",\"Very Satisfied\"],\\\n",
        "                 errwidth = 0)\n",
        "                 \n",
        "plt.show()"
      ],
      "execution_count": 0,
      "outputs": [
        {
          "output_type": "display_data",
          "data": {
            "image/png": "[encoded data removed]",
            "text/plain": [
              "<Figure size 720x504 with 1 Axes>"
            ]
          },
          "metadata": {
            "tags": []
          }
        }
      ]
    },
    {
      "cell_type": "code",
      "metadata": {
        "id": "iWZ_4mdhFNYt",
        "colab_type": "code",
        "outputId": "d6ad559f-fe39-4762-edf1-9c436292cfc0",
        "colab": {
          "base_uri": "https://localhost:8080/",
          "height": 159
        }
      },
      "source": [
        "table_SLT = pd.crosstab(books[\"Type\"],books[\"satisfaction_levels\"])\n",
        "table_SLT.sum()"
      ],
      "execution_count": 0,
      "outputs": [
        {
          "output_type": "execute_result",
          "data": {
            "text/plain": [
              "satisfaction_levels\n",
              "Disatisfied           88\n",
              "Neutral              306\n",
              "No rating           2576\n",
              "Satisfied           1222\n",
              "Very Satisfied      5714\n",
              "Very disatisfied      78\n",
              "dtype: int64"
            ]
          },
          "metadata": {
            "tags": []
          },
          "execution_count": 14
        }
      ]
    },
    {
      "cell_type": "code",
      "metadata": {
        "id": "TvMfjWDnIsPG",
        "colab_type": "code",
        "outputId": "2a9cfea0-d38e-4936-90d5-09b916f6feb6",
        "colab": {
          "base_uri": "https://localhost:8080/",
          "height": 135
        }
      },
      "source": [
        "table_SLT['Total'] = table_SLT.sum(axis=1)\n",
        "percent = table_SLT.apply(lambda x: (x/table_SLT['Total'])*100)\n",
        "percent"
      ],
      "execution_count": 0,
      "outputs": [
        {
          "output_type": "execute_result",
          "data": {
            "text/html": [
              "<div>\n",
              "<style scoped>\n",
              "    .dataframe tbody tr th:only-of-type {\n",
              "        vertical-align: middle;\n",
              "    }\n",
              "\n",
              "    .dataframe tbody tr th {\n",
              "        vertical-align: top;\n",
              "    }\n",
              "\n",
              "    .dataframe thead th {\n",
              "        text-align: right;\n",
              "    }\n",
              "</style>\n",
              "<table border=\"1\" class=\"dataframe\">\n",
              "  <thead>\n",
              "    <tr style=\"text-align: right;\">\n",
              "      <th>satisfaction_levels</th>\n",
              "      <th>Disatisfied</th>\n",
              "      <th>Neutral</th>\n",
              "      <th>No rating</th>\n",
              "      <th>Satisfied</th>\n",
              "      <th>Very Satisfied</th>\n",
              "      <th>Very disatisfied</th>\n",
              "      <th>Total</th>\n",
              "    </tr>\n",
              "    <tr>\n",
              "      <th>Type</th>\n",
              "      <th></th>\n",
              "      <th></th>\n",
              "      <th></th>\n",
              "      <th></th>\n",
              "      <th></th>\n",
              "      <th></th>\n",
              "      <th></th>\n",
              "    </tr>\n",
              "  </thead>\n",
              "  <tbody>\n",
              "    <tr>\n",
              "      <th>Domestic</th>\n",
              "      <td>0.808127</td>\n",
              "      <td>2.920804</td>\n",
              "      <td>25.375202</td>\n",
              "      <td>12.168091</td>\n",
              "      <td>58.000462</td>\n",
              "      <td>0.727315</td>\n",
              "      <td>100.0</td>\n",
              "    </tr>\n",
              "    <tr>\n",
              "      <th>International</th>\n",
              "      <td>1.361573</td>\n",
              "      <td>4.009077</td>\n",
              "      <td>28.593041</td>\n",
              "      <td>12.708018</td>\n",
              "      <td>52.193646</td>\n",
              "      <td>1.134644</td>\n",
              "      <td>100.0</td>\n",
              "    </tr>\n",
              "  </tbody>\n",
              "</table>\n",
              "</div>"
            ],
            "text/plain": [
              "satisfaction_levels  Disatisfied   Neutral  ...  Very disatisfied  Total\n",
              "Type                                        ...                         \n",
              "Domestic                0.808127  2.920804  ...          0.727315  100.0\n",
              "International           1.361573  4.009077  ...          1.134644  100.0\n",
              "\n",
              "[2 rows x 7 columns]"
            ]
          },
          "metadata": {
            "tags": []
          },
          "execution_count": 15
        }
      ]
    },
    {
      "cell_type": "markdown",
      "metadata": {
        "id": "4mVGLDrz_zjd",
        "colab_type": "text"
      },
      "source": [
        "**According to the above bar plot and the cross table,  internation books have high price but low rating rate. Therefore to provide better services and increase the sales volumne, tiki go against it first goal and focusing more on selling domestic books than international books. However, Tiki is still success in selling international and domestic books. As a result, Tiki expanded its business by selling more range of products (15 more categories)**"
      ]
    },
    {
      "cell_type": "markdown",
      "metadata": {
        "id": "vXInLNibYfXV",
        "colab_type": "text"
      },
      "source": [
        "## Analysis all categories "
      ]
    },
    {
      "cell_type": "markdown",
      "metadata": {
        "id": "LbB0MrYMmTIC",
        "colab_type": "text"
      },
      "source": [
        "\n",
        "\n",
        "### Which category has the highest average rating ?"
      ]
    },
    {
      "cell_type": "code",
      "metadata": {
        "id": "BuZKPs_FmdgQ",
        "colab_type": "code",
        "outputId": "96bef2bc-fb9e-49ba-ea48-056c386dd5c3",
        "colab": {
          "base_uri": "https://localhost:8080/",
          "height": 612
        }
      },
      "source": [
        "mean_rating = products.groupby(\"category\")[\"rating\"].mean().sort_values(ascending=False)\n",
        "plt.figure(figsize=(20,10))\n",
        "sns.barplot(y = mean_rating.index,x = mean_rating.values)"
      ],
      "execution_count": 0,
      "outputs": [
        {
          "output_type": "execute_result",
          "data": {
            "text/plain": [
              "<matplotlib.axes._subplots.AxesSubplot at 0x7f19709fdcf8>"
            ]
          },
          "metadata": {
            "tags": []
          },
          "execution_count": 17
        },
        {
          "output_type": "display_data",
          "data": {
            "image/png": "[encoded data removed]",
            "text/plain": [
              "<Figure size 1440x720 with 1 Axes>"
            ]
          },
          "metadata": {
            "tags": []
          }
        }
      ]
    },
    {
      "cell_type": "markdown",
      "metadata": {
        "id": "hHBAL026ZQ65",
        "colab_type": "text"
      },
      "source": [
        "**Overall, customers' satisfaction is high for all categories on Tiki. Which fashion and accessories (\"Thoi trang - phu kien\") is the most favorite category. On the other hand, camera is the worst category. **"
      ]
    },
    {
      "cell_type": "markdown",
      "metadata": {
        "id": "_ETV--i4mcFM",
        "colab_type": "text"
      },
      "source": [
        "### What category has the highest average price ? "
      ]
    },
    {
      "cell_type": "code",
      "metadata": {
        "id": "I53098tlmRjq",
        "colab_type": "code",
        "outputId": "a32a969b-ee09-4393-828f-cb09782e30ca",
        "colab": {
          "base_uri": "https://localhost:8080/",
          "height": 608
        }
      },
      "source": [
        "mean_price = products.groupby(\"category\")[\"price\"].mean().sort_values(ascending=False)\n",
        "plt.figure(figsize=(20,10))\n",
        "ax = sns.barplot(y = mean_price.index,x = mean_price.values)"
      ],
      "execution_count": 0,
      "outputs": [
        {
          "output_type": "display_data",
          "data": {
            "image/png": "[encoded data removed]",
            "text/plain": [
              "<Figure size 1440x720 with 1 Axes>"
            ]
          },
          "metadata": {
            "tags": []
          }
        }
      ]
    },
    {
      "cell_type": "markdown",
      "metadata": {
        "id": "SbeC2xI8UcF-",
        "colab_type": "text"
      },
      "source": [
        "According to the chart, Electric equipments, motorbike & car & bike, phone & tablet occupied top 3 average price on Tiki."
      ]
    },
    {
      "cell_type": "markdown",
      "metadata": {
        "id": "abTUKHZHmj35",
        "colab_type": "text"
      },
      "source": [
        "### The distribution of price in phone and tablet category"
      ]
    },
    {
      "cell_type": "code",
      "metadata": {
        "id": "EVtCi2DSmlS4",
        "colab_type": "code",
        "colab": {}
      },
      "source": [
        "dienthoai = products[products[\"category\"]==\"Điện Thoại - Máy Tính Bảng\"]\n",
        "sns.barplot(dienthoai[\"price\"])"
      ],
      "execution_count": 0,
      "outputs": []
    },
    {
      "cell_type": "code",
      "metadata": {
        "id": "aACVA7AKmo1r",
        "colab_type": "code",
        "colab": {}
      },
      "source": [
        "dienthoai[\"price\"].describe()"
      ],
      "execution_count": 0,
      "outputs": []
    },
    {
      "cell_type": "code",
      "metadata": {
        "id": "kN-7ux4xmuw9",
        "colab_type": "code",
        "colab": {}
      },
      "source": [
        "sns.distplot(dienthoai[\"price\"])"
      ],
      "execution_count": 0,
      "outputs": []
    },
    {
      "cell_type": "markdown",
      "metadata": {
        "id": "_aViuJSGm4Nm",
        "colab_type": "text"
      },
      "source": [
        "### Which brand has the highest price in phone and tablet category ?"
      ]
    },
    {
      "cell_type": "code",
      "metadata": {
        "id": "IXPJdkT7myLw",
        "colab_type": "code",
        "colab": {}
      },
      "source": [
        "def brand_price(df):\n",
        "    mean_price = df.groupby([\"brand\",\"subcategory\"])[\"price\"].mean().sort_values(ascending=False).head(20)\n",
        "    plt.figure(figsize=(20,30))\n",
        "    sns.barplot(y = mean_price.index,x = mean_price.values)"
      ],
      "execution_count": 0,
      "outputs": []
    },
    {
      "cell_type": "code",
      "metadata": {
        "id": "n852XFjlm78o",
        "colab_type": "code",
        "colab": {}
      },
      "source": [
        "dienthoai = products[products[\"category\"]==\"Điện Thoại - Máy Tính Bảng\"]\n",
        "brand_price(dienthoai)"
      ],
      "execution_count": 0,
      "outputs": []
    },
    {
      "cell_type": "markdown",
      "metadata": {
        "id": "XK5RYIn2m-AX",
        "colab_type": "text"
      },
      "source": [
        "### Which brand has the highest the rating ?"
      ]
    },
    {
      "cell_type": "code",
      "metadata": {
        "id": "jSNA_EGpnBNx",
        "colab_type": "code",
        "colab": {}
      },
      "source": [
        "def brand_rating(df):\n",
        "    mean_rating = df.groupby([\"brand\",\"subcategory\"])[\"rating\"].mean().sort_values(ascending=False).head(15)\n",
        "    plt.figure(figsize=(20,10))\n",
        "    sns.barplot(y = mean_rating.index,x = mean_rating.values)"
      ],
      "execution_count": 0,
      "outputs": []
    },
    {
      "cell_type": "code",
      "metadata": {
        "id": "4cfkVxDAnFLP",
        "colab_type": "code",
        "colab": {}
      },
      "source": [
        "brand_rating(dienthoai)"
      ],
      "execution_count": 0,
      "outputs": []
    },
    {
      "cell_type": "markdown",
      "metadata": {
        "id": "U7R5kyR3nL5l",
        "colab_type": "text"
      },
      "source": [
        "### Which brand has the highest the rate of discount ?"
      ]
    },
    {
      "cell_type": "code",
      "metadata": {
        "id": "RzYrd9PvnQnw",
        "colab_type": "code",
        "colab": {}
      },
      "source": [
        "def brand_discount(df):\n",
        "    mean_discount = df.groupby([\"brand\",\"subcategory\"])[\"discount\"].mean().sort_values(ascending=False).head(15)\n",
        "    plt.figure(figsize=(20,10))\n",
        "    sns.barplot(y = mean_discount.index,x = mean_discount.values)"
      ],
      "execution_count": 0,
      "outputs": []
    },
    {
      "cell_type": "code",
      "metadata": {
        "id": "t1LgbtKlnUIv",
        "colab_type": "code",
        "colab": {}
      },
      "source": [
        "dienthoai = products[products[\"category\"]==\"Điện Thoại - Máy Tính Bảng\"]\n",
        "brand_discount(dienthoai)"
      ],
      "execution_count": 0,
      "outputs": []
    },
    {
      "cell_type": "markdown",
      "metadata": {
        "id": "lpQ-6XPmnWG8",
        "colab_type": "text"
      },
      "source": [
        "### The relationship between brand and tikinow feature"
      ]
    },
    {
      "cell_type": "code",
      "metadata": {
        "id": "M_pMJr2qnZ1B",
        "colab_type": "code",
        "colab": {}
      },
      "source": [
        "table_BTN = pd.crosstab(dienthoai[\"brand\"],dienthoai[\"tikinow\"])\n",
        "table_BTN"
      ],
      "execution_count": 0,
      "outputs": []
    },
    {
      "cell_type": "code",
      "metadata": {
        "id": "nQ4Yr_9rncSn",
        "colab_type": "code",
        "colab": {}
      },
      "source": [
        "brand_minimum_tikinow = table_BTN[table_BTN[0] == table_BTN[0].max()]\n",
        "brand_maximum_tikinow = table_BTN[table_BTN[1] == table_BTN[1].max()]\n",
        "print(brand_minimum_tikinow)\n",
        "print(brand_maximum_tikinow)"
      ],
      "execution_count": 0,
      "outputs": []
    },
    {
      "cell_type": "markdown",
      "metadata": {
        "id": "VFVrswmwnhcK",
        "colab_type": "text"
      },
      "source": [
        "### Is there a relationship bewteen brand and tikinow feature?"
      ]
    },
    {
      "cell_type": "code",
      "metadata": {
        "id": "Pnp7ebZcneO4",
        "colab_type": "code",
        "colab": {}
      },
      "source": [
        "stat, p, dof, expected = chi2_contingency(table_BTN)\n",
        "print(\"p =\",p)\n",
        "if p <= 0.05:\n",
        "    print(\"There is a relationship between brand and tikinow\")\n",
        "else:\n",
        "    # p is the probablity that when the null hypothesis is true, the statistical summary \n",
        "    # (such as the absolute value of the sample mean difference between two compared groups)\n",
        "    # would be greater than or equal to the actual observed results.\n",
        "    print(\"There is no relationship between brand and tikinow\")"
      ],
      "execution_count": 0,
      "outputs": []
    },
    {
      "cell_type": "code",
      "metadata": {
        "id": "bi0NTGEcnqIh",
        "colab_type": "code",
        "colab": {}
      },
      "source": [
        "plt.figure(figsize=(50,100))\n",
        "table_BTN.sample(30).plot.bar(stacked = True)"
      ],
      "execution_count": 0,
      "outputs": []
    },
    {
      "cell_type": "markdown",
      "metadata": {
        "id": "3hyFOBlonsRJ",
        "colab_type": "text"
      },
      "source": [
        "### Is there a relationship between price and rating ? "
      ]
    },
    {
      "cell_type": "code",
      "metadata": {
        "id": "RZbjDu4Pnv41",
        "colab_type": "code",
        "colab": {}
      },
      "source": [
        "products[['rating','price']].corr()"
      ],
      "execution_count": 0,
      "outputs": []
    },
    {
      "cell_type": "code",
      "metadata": {
        "id": "qXbO0rRhnyKk",
        "colab_type": "code",
        "colab": {}
      },
      "source": [
        "sns.jointplot(x=products['rating'],y=products['price'])"
      ],
      "execution_count": 0,
      "outputs": []
    }
  ]
}